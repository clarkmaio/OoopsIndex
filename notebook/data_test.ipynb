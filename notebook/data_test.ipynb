{
 "cells": [
  {
   "cell_type": "code",
   "execution_count": 1,
   "metadata": {},
   "outputs": [],
   "source": [
    "import os\n",
    "import polars as pl\n",
    "from huggingface_hub import login\n",
    "from src.utils import upload_dataframe_hf"
   ]
  },
  {
   "cell_type": "code",
   "execution_count": 2,
   "metadata": {},
   "outputs": [],
   "source": [
    "scan = pl.scan_parquet('hf://datasets/clarkmaio/Ooops_dataset/vessels_location/*_vessels_location.pq')\n",
    "data = (scan\n",
    "        .collect())"
   ]
  }
 ],
 "metadata": {
  "kernelspec": {
   "display_name": "oops",
   "language": "python",
   "name": "python3"
  },
  "language_info": {
   "codemirror_mode": {
    "name": "ipython",
    "version": 3
   },
   "file_extension": ".py",
   "mimetype": "text/x-python",
   "name": "python",
   "nbconvert_exporter": "python",
   "pygments_lexer": "ipython3",
   "version": "3.11.11"
  }
 },
 "nbformat": 4,
 "nbformat_minor": 2
}
